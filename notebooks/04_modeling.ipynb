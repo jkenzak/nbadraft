{
 "cells": [
  {
   "cell_type": "markdown",
   "id": "719436d3",
   "metadata": {},
   "source": [
    "# Modeling - NBA Draft Prediction Project\n",
    "In this notebook, we build and evaluate a machine learning model to predict which NCAA players will become NBA All-Stars. A Random Forest classifier is used due to its robustness and interpretability."
   ]
  },
  {
   "cell_type": "markdown",
   "id": "dd249b66-443a-4936-a549-f4ddf54b8b42",
   "metadata": {},
   "source": [
    "# 04 Modeling"
   ]
  },
  {
   "cell_type": "code",
   "execution_count": 16,
   "id": "7aea2446-edb9-4c98-b40a-b350cc386407",
   "metadata": {},
   "outputs": [],
   "source": [
    "import pandas as pd\n",
    "import numpy as np\n",
    "from sklearn.ensemble import RandomForestClassifier\n",
    "from sklearn.metrics import accuracy_score, precision_recall_curve, average_precision_score, PrecisionRecallDisplay\n",
    "from sklearn.metrics import classification_report, confusion_matrix, roc_auc_score\n",
    "from sklearn.model_selection import train_test_split, GridSearchCV\n",
    "\n",
    "from sklearn.tree import export_graphviz\n",
    "from IPython.display import Image\n",
    "import graphviz"
   ]
  },
  {
   "cell_type": "code",
   "execution_count": 125,
   "id": "96cd7e76-744c-4500-b317-1c8fa0688d62",
   "metadata": {},
   "outputs": [],
   "source": [
    "df = pd.read_csv('../data/processed/merged_data.csv')\n",
    "df['Weight (lbs)'] = df['Weight (lbs)'].replace('-', np.nan)\n",
    "train_df = df.query(\"`Draft Year` <= 2019\") # Filter out the new/undeveloped players"
   ]
  },
  {
   "cell_type": "markdown",
   "id": "9fbaca99",
   "metadata": {},
   "source": [
    "## Train-Test Split\n",
    "We begin by splitting the data into training and test sets. The target variable is the binary `all_star` label."
   ]
  },
  {
   "cell_type": "code",
   "execution_count": 141,
   "id": "298516a5-732b-4537-a8bb-3e37f3ace694",
   "metadata": {},
   "outputs": [],
   "source": [
    "X = train_df.drop('All-Star', axis=1)\n",
    "y = train_df['All-Star'].map({'Yes': 1, 'No': 0})\n",
    "\n",
    "X_train, X_test, y_train, y_test = train_test_split(X, y, test_size=0.3, random_state=47, stratify=y)\n",
    "train_names = X_train['Player']\n",
    "test_names = X_test['Player']\n",
    "X_train = X_train.drop(['Player', 'Draft Year', 'Team'], axis=1) # Get rid of qualitative columns\n",
    "X_test = X_test.drop(['Player', 'Draft Year', 'Team'], axis=1)"
   ]
  },
  {
   "cell_type": "markdown",
   "id": "7737e7cb",
   "metadata": {},
   "source": [
    "## Model Training - Random Forest Classifier\n",
    "We train a Random Forest classifier, which performs well with tabular data and provides feature importance insights."
   ]
  },
  {
   "cell_type": "code",
   "execution_count": 127,
   "id": "7cb9be96-50d7-4dd4-a22b-e50174ec0d0c",
   "metadata": {},
   "outputs": [
    {
     "name": "stdout",
     "output_type": "stream",
     "text": [
      "0.9301470588235294\n"
     ]
    }
   ],
   "source": [
    "model = RandomForestClassifier(random_state=47)\n",
    "model.fit(X_train, y_train)\n",
    "predicted = model.predict(X_test)\n",
    "print (accuracy_score(y_test, predicted))"
   ]
  },
  {
   "cell_type": "markdown",
   "id": "3466d52a-1e43-4848-80b7-73d1a5231f7b",
   "metadata": {},
   "source": [
    "Since there is a class imbalance, accuracy doesn't mean much because classifying every player as 'No' for all-star status would lead to an accuracy like this"
   ]
  },
  {
   "cell_type": "markdown",
   "id": "ed9639c1-9704-4607-9b03-deaa602628a8",
   "metadata": {},
   "source": [
    "## Model Evaluation\n",
    "We evaluate the model using accuracy, precision, recall, and ROC-AUC score. This helps us understand how well the model distinguishes between All-Stars and non-All-Stars."
   ]
  },
  {
   "cell_type": "code",
   "execution_count": 128,
   "id": "af880fa4-7fb5-47e1-8ba3-e76506283880",
   "metadata": {},
   "outputs": [
    {
     "data": {
      "text/plain": [
       "<sklearn.metrics._plot.precision_recall_curve.PrecisionRecallDisplay at 0x11cfb2840>"
      ]
     },
     "execution_count": 128,
     "metadata": {},
     "output_type": "execute_result"
    },
    {
     "data": {
      "image/png": "[encoded data removed]",
      "text/plain": [
       "<Figure size 640x480 with 1 Axes>"
      ]
     },
     "metadata": {},
     "output_type": "display_data"
    }
   ],
   "source": [
    "PrecisionRecallDisplay.from_predictions(y_test, predicted)"
   ]
  },
  {
   "cell_type": "code",
   "execution_count": 129,
   "id": "712484c9-4bc6-4eca-928f-5ecc06f00d47",
   "metadata": {},
   "outputs": [
    {
     "name": "stdout",
     "output_type": "stream",
     "text": [
      "              precision    recall  f1-score   support\n",
      "\n",
      "           0       0.93      1.00      0.96       253\n",
      "           1       0.00      0.00      0.00        19\n",
      "\n",
      "    accuracy                           0.93       272\n",
      "   macro avg       0.47      0.50      0.48       272\n",
      "weighted avg       0.87      0.93      0.90       272\n",
      "\n"
     ]
    },
    {
     "name": "stderr",
     "output_type": "stream",
     "text": [
      "/Users/jackkenzakowski/miniconda3/lib/python3.12/site-packages/sklearn/metrics/_classification.py:1531: UndefinedMetricWarning: Precision is ill-defined and being set to 0.0 in labels with no predicted samples. Use `zero_division` parameter to control this behavior.\n",
      "  _warn_prf(average, modifier, f\"{metric.capitalize()} is\", len(result))\n",
      "/Users/jackkenzakowski/miniconda3/lib/python3.12/site-packages/sklearn/metrics/_classification.py:1531: UndefinedMetricWarning: Precision is ill-defined and being set to 0.0 in labels with no predicted samples. Use `zero_division` parameter to control this behavior.\n",
      "  _warn_prf(average, modifier, f\"{metric.capitalize()} is\", len(result))\n",
      "/Users/jackkenzakowski/miniconda3/lib/python3.12/site-packages/sklearn/metrics/_classification.py:1531: UndefinedMetricWarning: Precision is ill-defined and being set to 0.0 in labels with no predicted samples. Use `zero_division` parameter to control this behavior.\n",
      "  _warn_prf(average, modifier, f\"{metric.capitalize()} is\", len(result))\n"
     ]
    }
   ],
   "source": [
    "print(classification_report(y_test, predicted))"
   ]
  },
  {
   "cell_type": "code",
   "execution_count": 130,
   "id": "526c1277-a0aa-4f8e-a562-cef28f8bde47",
   "metadata": {},
   "outputs": [
    {
     "name": "stdout",
     "output_type": "stream",
     "text": [
      "[[253   0]\n",
      " [ 19   0]]\n"
     ]
    }
   ],
   "source": [
    "print(confusion_matrix(y_test, predicted))"
   ]
  },
  {
   "cell_type": "markdown",
   "id": "61956db4-db59-4565-9e3e-558a47cc0cd3",
   "metadata": {},
   "source": [
    "As we can see, the results are pretty abysmal. As feared, none of the players were classified as All-Stars and that is what contributed to the accuracy of 0.93"
   ]
  },
  {
   "cell_type": "markdown",
   "id": "55fc76e1-0513-48eb-9d45-aa263042578b",
   "metadata": {},
   "source": [
    "## Model Adjustments"
   ]
  },
  {
   "cell_type": "code",
   "execution_count": 131,
   "id": "443a8d18-007b-49af-87e6-c6361ab7b89d",
   "metadata": {},
   "outputs": [
    {
     "name": "stdout",
     "output_type": "stream",
     "text": [
      "              precision    recall  f1-score   support\n",
      "\n",
      "           0       0.93      1.00      0.96       253\n",
      "           1       0.00      0.00      0.00        19\n",
      "\n",
      "    accuracy                           0.93       272\n",
      "   macro avg       0.47      0.50      0.48       272\n",
      "weighted avg       0.87      0.93      0.90       272\n",
      "\n",
      "[[253   0]\n",
      " [ 19   0]]\n"
     ]
    },
    {
     "name": "stderr",
     "output_type": "stream",
     "text": [
      "/Users/jackkenzakowski/miniconda3/lib/python3.12/site-packages/sklearn/metrics/_classification.py:1531: UndefinedMetricWarning: Precision is ill-defined and being set to 0.0 in labels with no predicted samples. Use `zero_division` parameter to control this behavior.\n",
      "  _warn_prf(average, modifier, f\"{metric.capitalize()} is\", len(result))\n",
      "/Users/jackkenzakowski/miniconda3/lib/python3.12/site-packages/sklearn/metrics/_classification.py:1531: UndefinedMetricWarning: Precision is ill-defined and being set to 0.0 in labels with no predicted samples. Use `zero_division` parameter to control this behavior.\n",
      "  _warn_prf(average, modifier, f\"{metric.capitalize()} is\", len(result))\n",
      "/Users/jackkenzakowski/miniconda3/lib/python3.12/site-packages/sklearn/metrics/_classification.py:1531: UndefinedMetricWarning: Precision is ill-defined and being set to 0.0 in labels with no predicted samples. Use `zero_division` parameter to control this behavior.\n",
      "  _warn_prf(average, modifier, f\"{metric.capitalize()} is\", len(result))\n"
     ]
    }
   ],
   "source": [
    "model = RandomForestClassifier(class_weight='balanced_subsample', random_state=47)\n",
    "\n",
    "model.fit(X_train, y_train)\n",
    " \n",
    "predicted = model.predict(X_test)\n",
    "probs = model.predict_proba(X_test)\n",
    "\n",
    "print(classification_report(y_test, predicted))\n",
    "print(confusion_matrix(y_test, predicted))"
   ]
  },
  {
   "cell_type": "markdown",
   "id": "57749926-c300-4ad9-85cf-893eb46dc00e",
   "metadata": {},
   "source": [
    "Unfortunately, this one hyperparameter change didn't fix our results, so we need to focus on more complex methods. Our focus should be on false negatives, because we don't wanna pass up on a would-be all-star."
   ]
  },
  {
   "cell_type": "code",
   "execution_count": 132,
   "id": "cb1e7e9e-d116-4740-ab6d-fe4a05cf5214",
   "metadata": {},
   "outputs": [
    {
     "data": {
      "text/plain": [
       "{'max_depth': 80,\n",
       " 'max_features': 'sqrt',\n",
       " 'min_samples_leaf': 5,\n",
       " 'min_samples_split': 12}"
      ]
     },
     "execution_count": 132,
     "metadata": {},
     "output_type": "execute_result"
    }
   ],
   "source": [
    "param_grid = {\n",
    "    'max_depth': [80, 90, 100, 110],\n",
    "    'max_features': ['sqrt', 'log2'],\n",
    "    'min_samples_leaf': [3, 4, 5],\n",
    "    'min_samples_split': [8, 10, 12],\n",
    "}\n",
    "\n",
    "model = RandomForestClassifier(random_state=47,\n",
    "                              criterion='gini',\n",
    "                               n_estimators=30,\n",
    "                              class_weight='balanced')\n",
    "\n",
    "CV_model = GridSearchCV(estimator=model, param_grid=param_grid, \n",
    "                        cv=5, scoring='f1', n_jobs=-1)\n",
    "\n",
    "CV_model.fit(X_train, y_train)\n",
    "CV_model.best_params_"
   ]
  },
  {
   "cell_type": "code",
   "execution_count": 142,
   "id": "c8b7e240-8989-47b8-9ce8-9fa938a37318",
   "metadata": {},
   "outputs": [
    {
     "name": "stdout",
     "output_type": "stream",
     "text": [
      "              precision    recall  f1-score   support\n",
      "\n",
      "           0       0.93      1.00      0.96       253\n",
      "           1       0.50      0.05      0.10        19\n",
      "\n",
      "    accuracy                           0.93       272\n",
      "   macro avg       0.72      0.52      0.53       272\n",
      "weighted avg       0.90      0.93      0.90       272\n",
      "\n",
      "[[252   1]\n",
      " [ 18   1]]\n"
     ]
    }
   ],
   "source": [
    "model = RandomForestClassifier(random_state=47,\n",
    "                              criterion='gini',\n",
    "                              n_estimators=30,\n",
    "                              class_weight='balanced',\n",
    "                              max_depth=80,\n",
    "                              max_features='sqrt',\n",
    "                              min_samples_leaf=3,\n",
    "                              min_samples_split=12)\n",
    "model.fit(X_train, y_train)\n",
    "\n",
    "predicted = model.predict(X_test)\n",
    "probs = model.predict_proba(X_test)\n",
    "\n",
    "print(classification_report(y_test, predicted))\n",
    "print(confusion_matrix(y_test, predicted))"
   ]
  },
  {
   "cell_type": "markdown",
   "id": "573c6667",
   "metadata": {},
   "source": [
    "## All-Star Predictions (2020–2024)\n",
    "We apply the model to recent players and output the probability that each becomes an NBA All-Star."
   ]
  },
  {
   "cell_type": "code",
   "execution_count": 143,
   "id": "6b8358ed-709f-4841-b8d4-1b61063fe65f",
   "metadata": {},
   "outputs": [],
   "source": [
    "training_results = pd.DataFrame({\n",
    "    'Player': train_names,\n",
    "    'Probability': model.predict_proba(X_train)[:,1].round(2),\n",
    "    'Actual': y_train\n",
    "}).sort_values(by='Probability', ascending=False)\n",
    "\n",
    "training_results.to_csv('../results/training_results.csv', index=False)"
   ]
  },
  {
   "cell_type": "code",
   "execution_count": 144,
   "id": "6c95380c-b483-4e86-b4b0-379b86f3f64a",
   "metadata": {},
   "outputs": [],
   "source": [
    "test_results = pd.DataFrame({\n",
    "    'Player': test_names,\n",
    "    'Probability': probs[:,1].round(2),\n",
    "    'Actual': y_test\n",
    "}).sort_values(by='Probability', ascending=False)\n",
    "\n",
    "test_results.to_csv('../results/test_results.csv', index=False)"
   ]
  },
  {
   "cell_type": "markdown",
   "id": "6ac8aae5-6e08-4767-bb8d-06ceefb9fbd8",
   "metadata": {},
   "source": [
    "## Results"
   ]
  },
  {
   "cell_type": "code",
   "execution_count": 148,
   "id": "8a9e8f9d-5700-4cef-8ed1-0b1086ff9737",
   "metadata": {},
   "outputs": [],
   "source": [
    "test_df = df.query(\"`Draft Year` >= 2020\")\n",
    "X_newtest = test_df.drop(['Player', 'Draft Year', 'Team', 'All-Star'], axis=1)\n",
    "y_pred = model.predict(X_newtest)\n",
    "y_prob = model.predict_proba(X_newtest)[:,1]\n",
    "results = pd.DataFrame({'Player': test_df['Player'], 'Probability': y_prob.round(2), 'Prediction': y_pred}).sort_values(by='Probability', ascending=False)\n",
    "allstar_results = results.query('Prediction == 1')"
   ]
  },
  {
   "cell_type": "code",
   "execution_count": 149,
   "id": "4d815581-f667-40d7-ba0b-b16e1b05a09e",
   "metadata": {},
   "outputs": [
    {
     "data": {
      "text/html": [
       "<div>\n",
       "<style scoped>\n",
       "    .dataframe tbody tr th:only-of-type {\n",
       "        vertical-align: middle;\n",
       "    }\n",
       "\n",
       "    .dataframe tbody tr th {\n",
       "        vertical-align: top;\n",
       "    }\n",
       "\n",
       "    .dataframe thead th {\n",
       "        text-align: right;\n",
       "    }\n",
       "</style>\n",
       "<table border=\"1\" class=\"dataframe\">\n",
       "  <thead>\n",
       "    <tr style=\"text-align: right;\">\n",
       "      <th></th>\n",
       "      <th>Player</th>\n",
       "      <th>Probability</th>\n",
       "      <th>Prediction</th>\n",
       "    </tr>\n",
       "  </thead>\n",
       "  <tbody>\n",
       "    <tr>\n",
       "      <th>1003</th>\n",
       "      <td>Jaden Ivey</td>\n",
       "      <td>0.69</td>\n",
       "      <td>1</td>\n",
       "    </tr>\n",
       "    <tr>\n",
       "      <th>947</th>\n",
       "      <td>Cade Cunningham</td>\n",
       "      <td>0.64</td>\n",
       "      <td>1</td>\n",
       "    </tr>\n",
       "    <tr>\n",
       "      <th>988</th>\n",
       "      <td>Paolo Banchero</td>\n",
       "      <td>0.54</td>\n",
       "      <td>1</td>\n",
       "    </tr>\n",
       "    <tr>\n",
       "      <th>1103</th>\n",
       "      <td>Zach Edey</td>\n",
       "      <td>0.52</td>\n",
       "      <td>1</td>\n",
       "    </tr>\n",
       "    <tr>\n",
       "      <th>1050</th>\n",
       "      <td>Keyonte George</td>\n",
       "      <td>0.50</td>\n",
       "      <td>1</td>\n",
       "    </tr>\n",
       "  </tbody>\n",
       "</table>\n",
       "</div>"
      ],
      "text/plain": [
       "               Player  Probability  Prediction\n",
       "1003       Jaden Ivey         0.69           1\n",
       "947   Cade Cunningham         0.64           1\n",
       "988    Paolo Banchero         0.54           1\n",
       "1103        Zach Edey         0.52           1\n",
       "1050   Keyonte George         0.50           1"
      ]
     },
     "execution_count": 149,
     "metadata": {},
     "output_type": "execute_result"
    }
   ],
   "source": [
    "allstar_results"
   ]
  },
  {
   "cell_type": "code",
   "execution_count": 150,
   "id": "914f305f-6cf4-4ea2-aa7e-e8c559a1d51a",
   "metadata": {},
   "outputs": [],
   "source": [
    "results.to_csv('../results/results.csv', index=False)\n",
    "allstar_results.to_csv('../results/allstars.csv', index=False)"
   ]
  }
 ],
 "metadata": {
  "kernelspec": {
   "display_name": "Python 3.12.8 64-bit",
   "language": "python",
   "name": "python3"
  },
  "language_info": {
   "codemirror_mode": {
    "name": "ipython",
    "version": 3
   },
   "file_extension": ".py",
   "mimetype": "text/x-python",
   "name": "python",
   "nbconvert_exporter": "python",
   "pygments_lexer": "ipython3",
   "version": "3.12.8"
  },
  "vscode": {
   "interpreter": {
    "hash": "f1062708a37074d70712b695aadee582e0b0b9f95f45576b5521424137d05fec"
   }
  }
 },
 "nbformat": 4,
 "nbformat_minor": 5
}
