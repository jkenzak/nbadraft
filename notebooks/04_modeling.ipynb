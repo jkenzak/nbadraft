{
 "cells": [
  {
   "cell_type": "markdown",
   "id": "dd249b66-443a-4936-a549-f4ddf54b8b42",
   "metadata": {},
   "source": [
    "# 04 Modeling"
   ]
  },
  {
   "cell_type": "code",
   "execution_count": null,
   "id": "7aea2446-edb9-4c98-b40a-b350cc386407",
   "metadata": {},
   "outputs": [],
   "source": [
    "import pandas as pd\n",
    "from sklearn.model_selection import train_test_split\n",
    "from sklearn.ensemble import RandomForestClassifier\n",
    "from sklearn.metrics import accuracy_score, classification_report"
   ]
  },
  {
   "cell_type": "code",
   "execution_count": null,
   "id": "657fa5ae-0fbf-416a-b296-0e44cb955a6a",
   "metadata": {},
   "outputs": [],
   "source": [
    "df = pd.read_csv('../data/processed/merged_data.csv')"
   ]
  }
 ],
 "metadata": {
  "kernelspec": {
   "display_name": "Python 3 (ipykernel)",
   "language": "python",
   "name": "python3"
  },
  "language_info": {
   "codemirror_mode": {
    "name": "ipython",
    "version": 3
   },
   "file_extension": ".py",
   "mimetype": "text/x-python",
   "name": "python",
   "nbconvert_exporter": "python",
   "pygments_lexer": "ipython3",
   "version": "3.12.3"
  }
 },
 "nbformat": 4,
 "nbformat_minor": 5
}
