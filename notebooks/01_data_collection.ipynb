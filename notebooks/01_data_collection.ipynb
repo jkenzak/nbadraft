{
 "cells": [
  {
   "cell_type": "markdown",
   "id": "893e3fd3-0d37-4472-b268-41758d4f3e9b",
   "metadata": {},
   "source": [
    "# 01 Data Collection\n",
    "### NBA Combine Measurements"
   ]
  },
  {
   "cell_type": "code",
   "execution_count": 1,
   "id": "adefd631-7a1c-400b-92a3-3d01c31fc92c",
   "metadata": {},
   "outputs": [],
   "source": [
    "import pandas as pd\n",
    "import numpy as np\n",
    "import requests\n",
    "from bs4 import BeautifulSoup"
   ]
  },
  {
   "cell_type": "markdown",
   "id": "630c5216-3fea-45e4-b0ff-2cc31c100efc",
   "metadata": {},
   "source": [
    "All of the NBA Combine Measurements were collected from NBA.com and scraped using Data Miner since it is stored as dynamic JavaScript and not HTML. They were then saved to individual csv files"
   ]
  },
  {
   "cell_type": "code",
   "execution_count": 2,
   "id": "100bd800-55d2-4a67-b6c8-4392593473ad",
   "metadata": {},
   "outputs": [],
   "source": [
    "rawpath = '../data/raw/Combine CSVs'\n",
    "combine_data = pd.DataFrame()\n",
    "for year1 in range(2000, 2025):\n",
    "    year2 = str(year1 + 1)[-2:]\n",
    "    link = f\"{year1}-{year2}.csv\"\n",
    "    path = f\"{rawpath}/{link}\"\n",
    "    df = pd.read_csv(path)\n",
    "    df['DRAFT YR'] = year1\n",
    "    combine_data = pd.concat([combine_data, df], ignore_index = True)\n",
    "    "
   ]
  },
  {
   "cell_type": "code",
   "execution_count": 3,
   "id": "6e78d80a-7b8b-43ef-92f9-4875d995e6b7",
   "metadata": {},
   "outputs": [],
   "source": [
    "combine_data.to_csv('../data/raw/combine_data.csv', index=False)"
   ]
  },
  {
   "cell_type": "markdown",
   "id": "b6fd2826-48a7-4b17-9ef0-ba2fae65b82b",
   "metadata": {},
   "source": [
    "### NCAA Statistics (2003-2024)"
   ]
  },
  {
   "cell_type": "markdown",
   "id": "7c595ede-3163-4648-b14c-db57e3a26566",
   "metadata": {},
   "source": [
    "The way that the column names are stored varies, so I had to manually add those names and append them to the dataset"
   ]
  },
  {
   "cell_type": "code",
   "execution_count": 8,
   "id": "cb214597-3a7a-4e93-b6b5-02e9b817fb39",
   "metadata": {},
   "outputs": [],
   "source": [
    "ncaa_colnames = [\n",
    "'#',\t\n",
    "'Player',\n",
    "'Team',\t\n",
    "'GP',\n",
    "'MPG',\n",
    "'PPG',\n",
    "'FGM',\n",
    "'FGA',\n",
    "'FG%',\n",
    "'3PM',\n",
    "'3PA',\n",
    "'3P%',\n",
    "'FTM',\n",
    "'FTA',\n",
    "'FT%',\n",
    "'ORB',\n",
    "'DRB',\n",
    "'RPG',\n",
    "'APG',\n",
    "'SPG',\n",
    "'BPG',\n",
    "'TOV',\n",
    "'PF']"
   ]
  },
  {
   "cell_type": "code",
   "execution_count": 9,
   "id": "cb27329d-cb2c-4e6e-bee5-c900f60e5aa3",
   "metadata": {},
   "outputs": [],
   "source": [
    "def get_ncaa(year):\n",
    "    '''\n",
    "    Returns a pandas DataFrame containing statistics for the top 1,000 scorers (PPG) in a collegiate season\n",
    "    '''\n",
    "    df_yr = pd.DataFrame()\n",
    "    for page in range(1,6):\n",
    "        url = f'https://basketball.realgm.com/ncaa/stats/{year}/Averages/Qualified/All/Season/All/per/desc/{page}/'\n",
    "        headers = {'user-agent': 'Mozilla/5.0 (Macintosh; Intel Mac OS X 10_15_7) AppleWebKit/537.36 (KHTML, like Gecko) Chrome/130.0.0.0 Safari/537.36'}\n",
    "        r = requests.get(url, headers=headers)\n",
    "        ncaa = BeautifulSoup(r.text, 'html')\n",
    "        \n",
    "        tbrows = ncaa.find_all(\"tr\")[1:] # Excluding column names\n",
    "        for tbrow in tbrows:\n",
    "            row = [r.string for r in tbrow]\n",
    "            row_df = pd.DataFrame([row], columns=ncaa_colnames)\n",
    "            df_yr = pd.concat([df_yr, row_df], ignore_index=True)\n",
    "    df_yr['Draft Yr'] = year\n",
    "    return df_yr "
   ]
  },
  {
   "cell_type": "code",
   "execution_count": 10,
   "id": "50cd5a2c-b51e-4ee7-a7e5-bbfc4e55c262",
   "metadata": {},
   "outputs": [],
   "source": [
    "ncaa_stats = pd.DataFrame()\n",
    "for i in range(2003,2025):\n",
    "    df = get_ncaa(i)\n",
    "    ncaa_stats = pd.concat([ncaa_stats, df], ignore_index = True)\n",
    "\n",
    "ncaa_stats.to_csv('../data/raw/ncaa_data.csv', index=False)"
   ]
  }
 ],
 "metadata": {
  "kernelspec": {
   "display_name": "Python 3 (ipykernel)",
   "language": "python",
   "name": "python3"
  },
  "language_info": {
   "codemirror_mode": {
    "name": "ipython",
    "version": 3
   },
   "file_extension": ".py",
   "mimetype": "text/x-python",
   "name": "python",
   "nbconvert_exporter": "python",
   "pygments_lexer": "ipython3",
   "version": "3.12.3"
  }
 },
 "nbformat": 4,
 "nbformat_minor": 5
}
