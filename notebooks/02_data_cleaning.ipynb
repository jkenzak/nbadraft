{
 "cells": [
  {
   "cell_type": "markdown",
   "id": "a16695d9-9b50-45e6-8132-522e7e4da0e4",
   "metadata": {},
   "source": [
    "# 02 Data Cleaning"
   ]
  },
  {
   "cell_type": "code",
   "execution_count": 2,
   "id": "cf53cbf6-6cad-4e65-aed5-56c198b86fb8",
   "metadata": {},
   "outputs": [],
   "source": [
    "import pandas as pd"
   ]
  },
  {
   "cell_type": "markdown",
   "id": "04581203-fb6c-485a-a845-8f5c6c6e1dff",
   "metadata": {},
   "source": [
    "## Merging"
   ]
  },
  {
   "cell_type": "code",
   "execution_count": 3,
   "id": "b091fc60-1aba-4028-8d81-0e1a289b97fc",
   "metadata": {},
   "outputs": [],
   "source": [
    "combine = pd.read_csv('../data/raw/combine_data.csv')\n",
    "ncaa = pd.read_csv('../data/raw/ncaa_data.csv')\n",
    "combine = combine.query(\"`DRAFT YR` >= 2003\") # Earliest NCAA yr is 2003"
   ]
  },
  {
   "cell_type": "code",
   "execution_count": 5,
   "id": "2b17e639-c4b7-44a9-a50d-51e0d76ba97d",
   "metadata": {},
   "outputs": [
    {
     "data": {
      "text/plain": [
       "0       Aloysius Anagonye\n",
       "3          Jerome Beasley\n",
       "10      Souleymane Camara\n",
       "16      Aleksander Djuric\n",
       "25        Justin Hamilton\n",
       "              ...        \n",
       "1486          Tyler Smith\n",
       "1488      Nae'Qwan Tomlin\n",
       "1489         Nikola Topic\n",
       "1490            JT Toppin\n",
       "1496        Cody Williams\n",
       "Name: PLAYER, Length: 398, dtype: object"
      ]
     },
     "execution_count": 5,
     "metadata": {},
     "output_type": "execute_result"
    }
   ],
   "source": [
    "merge_test = pd.merge(combine, ncaa, how=\"left\",\n",
    "                      left_on=['PLAYER', 'DRAFT YR'],right_on=['Player', 'Draft Yr'], \n",
    "                      indicator='matched')\n",
    "merge_test.query(\"matched=='left_only'\")['PLAYER']"
   ]
  },
  {
   "cell_type": "markdown",
   "id": "7d5f85e1-2a42-4123-b8a5-9abe95d26779",
   "metadata": {},
   "source": [
    "#### *Comments:*\n",
    "\n",
    "Looking at the results, some of these players were highly-touted but weren't high-scoring, which is how the data was sorted. So players like Cody Williams weren't in the top 1,000 in the NCAA in PPG\n",
    "\n",
    "Different names: One of the last rows stands out, that being JT Toppin. The reason it didn't match to a dataset is because the NCAA dataset compiled from RealGM listed him as 'Jacob Toppin'. Therefore, it is important to pay special attention to players that participated in the combine that could have different nicknames\n",
    "\n",
    "And finally, as anticipated, there were players that made it to the NBA without playing in the NCAA, whether that be through the G-League, high school, or overseas play"
   ]
  },
  {
   "cell_type": "code",
   "execution_count": 6,
   "id": "a75d99dc-1b48-4dc0-b194-8af19667337e",
   "metadata": {},
   "outputs": [],
   "source": [
    "# IDEAS:\n",
    "\n",
    "    # For players like JT Toppin, we could join based on matching Last Name (str.split()) and Draft Year to see if there is a pattern"
   ]
  }
 ],
 "metadata": {
  "kernelspec": {
   "display_name": "Python 3 (ipykernel)",
   "language": "python",
   "name": "python3"
  },
  "language_info": {
   "codemirror_mode": {
    "name": "ipython",
    "version": 3
   },
   "file_extension": ".py",
   "mimetype": "text/x-python",
   "name": "python",
   "nbconvert_exporter": "python",
   "pygments_lexer": "ipython3",
   "version": "3.12.3"
  }
 },
 "nbformat": 4,
 "nbformat_minor": 5
}
