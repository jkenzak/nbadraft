{
 "cells": [
  {
   "cell_type": "markdown",
   "id": "893e3fd3-0d37-4472-b268-41758d4f3e9b",
   "metadata": {},
   "source": [
    "# 01 Data Cleaning\n",
    "xx"
   ]
  },
  {
   "cell_type": "code",
   "execution_count": 29,
   "id": "100bd800-55d2-4a67-b6c8-4392593473ad",
   "metadata": {},
   "outputs": [
    {
     "name": "stdout",
     "output_type": "stream",
     "text": [
      "2000-01\n",
      "2001-02\n",
      "2002-03\n",
      "2003-04\n",
      "2004-05\n",
      "2005-06\n",
      "2006-07\n",
      "2007-08\n",
      "2008-09\n",
      "2009-10\n",
      "2010-11\n",
      "2011-12\n",
      "2012-13\n",
      "2013-14\n",
      "2014-15\n",
      "2015-16\n",
      "2016-17\n",
      "2017-18\n",
      "2018-19\n",
      "2019-20\n",
      "2020-21\n",
      "2021-22\n",
      "2022-23\n",
      "2023-24\n",
      "2024-25\n"
     ]
    }
   ],
   "source": [
    "for year1 in range(2000, 2025):\n",
    "    year2 = str(year1 + 1)[-2:]\n",
    "    link = f\"{year1}-{year2}\""
   ]
  }
 ],
 "metadata": {
  "kernelspec": {
   "display_name": "Python 3 (ipykernel)",
   "language": "python",
   "name": "python3"
  },
  "language_info": {
   "codemirror_mode": {
    "name": "ipython",
    "version": 3
   },
   "file_extension": ".py",
   "mimetype": "text/x-python",
   "name": "python",
   "nbconvert_exporter": "python",
   "pygments_lexer": "ipython3",
   "version": "3.12.3"
  }
 },
 "nbformat": 4,
 "nbformat_minor": 5
}
